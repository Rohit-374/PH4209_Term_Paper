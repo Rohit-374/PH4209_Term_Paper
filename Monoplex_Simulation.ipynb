{
 "cells": [
  {
   "cell_type": "code",
   "execution_count": 1,
   "id": "b3474502",
   "metadata": {},
   "outputs": [],
   "source": [
    "# Importing Useful Libraries\n",
    "\n",
    "import numpy as np\n",
    "import matplotlib.pyplot as plt\n",
    "import random as rd\n",
    "import time\n",
    "import copy"
   ]
  },
  {
   "cell_type": "code",
   "execution_count": 2,
   "id": "43743b06",
   "metadata": {},
   "outputs": [],
   "source": [
    "# Function to create an adjacency matrix\n",
    "\n",
    "def Amat(size,num):\n",
    "    matrix = np.zeros((size,size))\n",
    "    count=0\n",
    "    while count!=num:\n",
    "        x,y=np.random.randint(size),np.random.randint(size)\n",
    "        if matrix[x][y]==0 and x != y:\n",
    "            matrix[x][y] = matrix[y][x]=1\n",
    "            count = count+1\n",
    "    return matrix\n",
    "\n",
    "# Function to assign randomly straties to individual of population denoted by indices\n",
    "\n",
    "def Population(Size, Frac):\n",
    "    Pop = np.zeros(Size)\n",
    "    for i in range(int(Frac*Size)):\n",
    "        Pop[i] = 1\n",
    "    rd.shuffle(Pop)\n",
    "    return Pop"
   ]
  },
  {
   "cell_type": "code",
   "execution_count": 3,
   "id": "7d9b055f",
   "metadata": {},
   "outputs": [],
   "source": [
    "# Function to collect payoff for each indivial in the population after interaction\n",
    "\n",
    "def PayOff(population, Amatrix, Mmatrix):\n",
    "    PO = np.zeros(len(population))\n",
    "    for i in range(len(population)):\n",
    "        p = 0\n",
    "        for j in range(len(population)):\n",
    "            if   Amatrix[i][j] == 1 and population[i] == 0 and population[j] == 0:\n",
    "                p += Mmatrix[0]\n",
    "                \n",
    "            elif Amatrix[i][j] == 1 and population[i] == 0 and population[j] == 1:\n",
    "                p += Mmatrix[1]\n",
    "                \n",
    "            elif Amatrix[i][j] == 1 and population[i] == 1 and population[j] == 0:\n",
    "                p += Mmatrix[2]\n",
    "                \n",
    "            elif Amatrix[i][j] == 1 and population[i] == 1 and population[j] == 1:\n",
    "                p += Mmatrix[3]\n",
    "        PO[i] = p\n",
    "                \n",
    "    return np.array(PO)"
   ]
  },
  {
   "cell_type": "code",
   "execution_count": 4,
   "id": "8d8dcbe9",
   "metadata": {},
   "outputs": [],
   "source": [
    "# Function to obtain probability of changing strategy\n",
    "\n",
    "def PIE(i, j, S, T, Amatrix, Pmatrix):\n",
    "    Ki = np.sum(Amatrix[i])\n",
    "    Kj = np.sum(Amatrix[j])\n",
    "    Numer = Pmatrix[j] - Pmatrix[i]\n",
    "    Denom = max(Ki, Kj)*( max(1, T) - min(0, S) )\n",
    "    return Numer/Denom"
   ]
  },
  {
   "cell_type": "code",
   "execution_count": 5,
   "id": "eb5b7a09",
   "metadata": {},
   "outputs": [],
   "source": [
    "# Function to do one round of simulation for a given population, network and payoff matrix\n",
    "\n",
    "def Simulation(Iter, population, Amatrix, Mmatrix, DP):\n",
    "    Copy_Pop = copy.deepcopy(population)\n",
    "    FreqD = np.zeros(Iter+1) # Array to collect frequency of defector after each generation\n",
    "    FreqD[0] = (np.sum(Copy_Pop)/len(Copy_Pop))\n",
    "    \n",
    "    for n in range(Iter):\n",
    "        \n",
    "        Pmatrix = PayOff(Copy_Pop, Amatrix, Mmatrix) # Collecting Payoff\n",
    "        \n",
    "        for i in range(len(Copy_Pop)):\n",
    "            Neighbr = np.where(Amatrix[i] == 1)\n",
    "            \n",
    "            try:\n",
    "                jr = rd.choice(Neighbr[0])\n",
    "                if Pmatrix[i] < Pmatrix[jr] and Copy_Pop[i] != Copy_Pop[jr]  and rd.random() < PIE(i, jr, Mmatrix[1], Mmatrix[2], Amatrix, Pmatrix):\n",
    "                    Copy_Pop[i] = Copy_Pop[jr]\n",
    "            except:\n",
    "                None\n",
    "                \n",
    "        print(DP,\":\" ,\"%3.3f\" %((n/Iter)*100), '%', end=\"\\r\") # To display progress of simulation\n",
    "        time.sleep(10**(-4))\n",
    "        \n",
    "        FreqD[n+1] = (np.sum(Copy_Pop)/len(Copy_Pop)) # Appending frequencies to np array\n",
    "    return Copy_Pop, np.array(FreqD)"
   ]
  },
  {
   "cell_type": "code",
   "execution_count": 6,
   "id": "23646186",
   "metadata": {},
   "outputs": [],
   "source": [
    "# Creating Population and Adjacency Matrices\n",
    "\n",
    "Popu1 = Population(200, 0.5)\n",
    "A0 = Amat(200, 600)"
   ]
  },
  {
   "cell_type": "code",
   "execution_count": 7,
   "id": "8c93b124",
   "metadata": {},
   "outputs": [],
   "source": [
    "# Function to create values of pair of value S and T\n",
    "\n",
    "def ST_value(N1):\n",
    "    T1 = np.linspace(0, 2, N1)\n",
    "    S1 = np.linspace(-1, 1, N1)\n",
    "    Y1 = []\n",
    "    for i in range(N1):\n",
    "        Z1 = []\n",
    "        for j in range(N1):\n",
    "            X1 = [S1[i], T1[j]]\n",
    "            Z1.append(X1)\n",
    "        Y1.append(Z1)\n",
    "    return np.array(Y1)"
   ]
  },
  {
   "cell_type": "code",
   "execution_count": 9,
   "id": "f9dbb3a5",
   "metadata": {},
   "outputs": [],
   "source": [
    "# Function to run the simulation for different different payoff matrices\n",
    "\n",
    "def Sim_Loop(NN, Popu, Amatrix, T0, TG):\n",
    "    YY = ST_value(NN)\n",
    "    ZZ = []\n",
    "    for s in range(NN):\n",
    "        TD = []\n",
    "        for t in range(NN):\n",
    "            Pick = YY[s][t]\n",
    "            MM = np.array([1, Pick[0], Pick[1], 0]) # Creating new payoff matrix\n",
    "            PP, FF = Simulation(T0 + TG, Popu, Amatrix, MM, (s, t)) # Doing Simulation\n",
    "            TD.append(FF)\n",
    "        np.savetxt('Data_S'+str(s)+'.csv' , TD, delimiter=',') # Exporting defector frequencies to a csv file for further analysis \n",
    "        ZZ.append(TD)\n",
    "    print('Done Duna Done Done')\n",
    "    return np.array(ZZ)"
   ]
  },
  {
   "cell_type": "code",
   "execution_count": 10,
   "id": "07049e35",
   "metadata": {},
   "outputs": [],
   "source": [
    "# Running the Simulation\n",
    "Result1 = Sim_Loop(31, Popu1, A0, 2000, 500)"
   ]
  }
 ],
 "metadata": {
  "kernelspec": {
   "display_name": "Python 3 (ipykernel)",
   "language": "python",
   "name": "python3"
  },
  "language_info": {
   "codemirror_mode": {
    "name": "ipython",
    "version": 3
   },
   "file_extension": ".py",
   "mimetype": "text/x-python",
   "name": "python",
   "nbconvert_exporter": "python",
   "pygments_lexer": "ipython3",
   "version": "3.11.5"
  }
 },
 "nbformat": 4,
 "nbformat_minor": 5
}
